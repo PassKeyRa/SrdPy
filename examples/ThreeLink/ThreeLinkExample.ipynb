{
  "nbformat": 4,
  "nbformat_minor": 0,
  "metadata": {
    "colab": {
      "name": "SrdPy",
      "provenance": [],
      "collapsed_sections": []
    },
    "kernelspec": {
      "name": "python3",
      "display_name": "Python 3",
      "language": "python"
    }
  },
  "cells": [
    {
      "cell_type": "markdown",
      "metadata": {
        "id": "PEo2tShSLuyj"
      },
      "source": [
        "##Clone SrdyPy from git"
      ]
    },
    {
      "cell_type": "code",
      "metadata": {
        "colab": {
          "base_uri": "https://localhost:8080/"
        },
        "id": "xNHJmyC_aoZk",
        "outputId": "8fc77806-5137-49f4-f7ac-2a70eebe2b7e"
      },
      "source": [
        "!rm -rf SrdPy\n",
        "!git clone https://github.com/RumblingTurtle/SrdPy.git"
      ],
      "execution_count": null,
      "outputs": [
        {
          "output_type": "stream",
          "text": [
            "Cloning into 'SrdPy'...\n",
            "remote: Enumerating objects: 373, done.\u001b[K\n",
            "remote: Counting objects: 100% (373/373), done.\u001b[K\n",
            "remote: Compressing objects: 100% (271/271), done.\u001b[K\n",
            "remote: Total 373 (delta 172), reused 297 (delta 96), pack-reused 0\u001b[K\n",
            "Receiving objects: 100% (373/373), 4.04 MiB | 3.32 MiB/s, done.\n",
            "Resolving deltas: 100% (172/172), done.\n"
          ],
          "name": "stdout"
        }
      ]
    },
    {
      "cell_type": "markdown",
      "metadata": {
        "id": "rhFtDjUiL9aB"
      },
      "source": [
        "##Clone colab compatible meshcat repo and install casadi"
      ]
    },
    {
      "cell_type": "code",
      "metadata": {
        "colab": {
          "base_uri": "https://localhost:8080/"
        },
        "id": "CFORFUoxw-5x",
        "outputId": "77a0926f-39e8-4918-d0c6-5900f18332f9"
      },
      "source": [
        "!pip install git+https://github.com/rdeits/meshcat-python.git@master\n",
        "!pip install casadi\n",
        "!pip install control\n",
        "!pip install slycot\n",
        "!pip install urdf-parser-py\n",
        "!pip install pyngrok"
      ],
      "execution_count": null,
      "outputs": [
        {
          "output_type": "stream",
          "text": [
            "Collecting git+https://github.com/rdeits/meshcat-python.git@master\n",
            "  Cloning https://github.com/rdeits/meshcat-python.git (to revision master) to /tmp/pip-req-build-va_rbb_e\n",
            "  Running command git clone -q https://github.com/rdeits/meshcat-python.git /tmp/pip-req-build-va_rbb_e\n",
            "  Running command git submodule update --init --recursive -q\n",
            "Requirement already satisfied (use --upgrade to upgrade): meshcat==0.0.19 from git+https://github.com/rdeits/meshcat-python.git@master in /usr/local/lib/python3.6/dist-packages\n",
            "Requirement already satisfied: ipython>=5 in /usr/local/lib/python3.6/dist-packages (from meshcat==0.0.19) (5.5.0)\n",
            "Requirement already satisfied: u-msgpack-python>=2.4.1 in /usr/local/lib/python3.6/dist-packages (from meshcat==0.0.19) (2.7.1)\n",
            "Requirement already satisfied: numpy>=1.14.0 in /usr/local/lib/python3.6/dist-packages (from meshcat==0.0.19) (1.19.4)\n",
            "Requirement already satisfied: tornado>=4.0.0 in /usr/local/lib/python3.6/dist-packages (from meshcat==0.0.19) (5.1.1)\n",
            "Requirement already satisfied: pyzmq>=17.0.0 in /usr/local/lib/python3.6/dist-packages (from meshcat==0.0.19) (20.0.0)\n",
            "Requirement already satisfied: pyngrok>=4.1.6 in /usr/local/lib/python3.6/dist-packages (from meshcat==0.0.19) (5.0.1)\n",
            "Requirement already satisfied: decorator in /usr/local/lib/python3.6/dist-packages (from ipython>=5->meshcat==0.0.19) (4.4.2)\n",
            "Requirement already satisfied: simplegeneric>0.8 in /usr/local/lib/python3.6/dist-packages (from ipython>=5->meshcat==0.0.19) (0.8.1)\n",
            "Requirement already satisfied: traitlets>=4.2 in /usr/local/lib/python3.6/dist-packages (from ipython>=5->meshcat==0.0.19) (4.3.3)\n",
            "Requirement already satisfied: setuptools>=18.5 in /usr/local/lib/python3.6/dist-packages (from ipython>=5->meshcat==0.0.19) (51.1.1)\n",
            "Requirement already satisfied: pickleshare in /usr/local/lib/python3.6/dist-packages (from ipython>=5->meshcat==0.0.19) (0.7.5)\n",
            "Requirement already satisfied: prompt-toolkit<2.0.0,>=1.0.4 in /usr/local/lib/python3.6/dist-packages (from ipython>=5->meshcat==0.0.19) (1.0.18)\n",
            "Requirement already satisfied: pexpect; sys_platform != \"win32\" in /usr/local/lib/python3.6/dist-packages (from ipython>=5->meshcat==0.0.19) (4.8.0)\n",
            "Requirement already satisfied: pygments in /usr/local/lib/python3.6/dist-packages (from ipython>=5->meshcat==0.0.19) (2.6.1)\n",
            "Requirement already satisfied: PyYAML in /usr/local/lib/python3.6/dist-packages (from pyngrok>=4.1.6->meshcat==0.0.19) (3.13)\n",
            "Requirement already satisfied: ipython-genutils in /usr/local/lib/python3.6/dist-packages (from traitlets>=4.2->ipython>=5->meshcat==0.0.19) (0.2.0)\n",
            "Requirement already satisfied: six in /usr/local/lib/python3.6/dist-packages (from traitlets>=4.2->ipython>=5->meshcat==0.0.19) (1.15.0)\n",
            "Requirement already satisfied: wcwidth in /usr/local/lib/python3.6/dist-packages (from prompt-toolkit<2.0.0,>=1.0.4->ipython>=5->meshcat==0.0.19) (0.2.5)\n",
            "Requirement already satisfied: ptyprocess>=0.5 in /usr/local/lib/python3.6/dist-packages (from pexpect; sys_platform != \"win32\"->ipython>=5->meshcat==0.0.19) (0.6.0)\n",
            "Building wheels for collected packages: meshcat\n",
            "  Building wheel for meshcat (setup.py) ... \u001b[?25l\u001b[?25hdone\n",
            "  Created wheel for meshcat: filename=meshcat-0.0.19-cp36-none-any.whl size=627628 sha256=11445a2b403a8a0ad1d3affa6a1621dcd827ae888eb43574e1164965afe9e007\n",
            "  Stored in directory: /tmp/pip-ephem-wheel-cache-h0zl2b98/wheels/c2/57/90/f09f46ded98f6ea0f4dd05029529fe8d24d936a520786a60e0\n",
            "Successfully built meshcat\n",
            "Requirement already satisfied: casadi in /usr/local/lib/python3.6/dist-packages (3.5.5)\n",
            "Requirement already satisfied: control in /usr/local/lib/python3.6/dist-packages (0.8.4)\n",
            "Requirement already satisfied: numpy in /usr/local/lib/python3.6/dist-packages (from control) (1.19.4)\n",
            "Requirement already satisfied: scipy in /usr/local/lib/python3.6/dist-packages (from control) (1.4.1)\n",
            "Requirement already satisfied: matplotlib in /usr/local/lib/python3.6/dist-packages (from control) (3.2.2)\n",
            "Requirement already satisfied: python-dateutil>=2.1 in /usr/local/lib/python3.6/dist-packages (from matplotlib->control) (2.8.1)\n",
            "Requirement already satisfied: cycler>=0.10 in /usr/local/lib/python3.6/dist-packages (from matplotlib->control) (0.10.0)\n",
            "Requirement already satisfied: kiwisolver>=1.0.1 in /usr/local/lib/python3.6/dist-packages (from matplotlib->control) (1.3.1)\n",
            "Requirement already satisfied: pyparsing!=2.0.4,!=2.1.2,!=2.1.6,>=2.0.1 in /usr/local/lib/python3.6/dist-packages (from matplotlib->control) (2.4.7)\n",
            "Requirement already satisfied: six>=1.5 in /usr/local/lib/python3.6/dist-packages (from python-dateutil>=2.1->matplotlib->control) (1.15.0)\n",
            "Requirement already satisfied: slycot in /usr/local/lib/python3.6/dist-packages (0.4.0)\n",
            "Requirement already satisfied: numpy in /usr/local/lib/python3.6/dist-packages (from slycot) (1.19.4)\n",
            "Requirement already satisfied: urdf-parser-py in /usr/local/lib/python3.6/dist-packages (0.0.3)\n",
            "Requirement already satisfied: pyyaml in /usr/local/lib/python3.6/dist-packages (from urdf-parser-py) (3.13)\n",
            "Requirement already satisfied: lxml in /usr/local/lib/python3.6/dist-packages (from urdf-parser-py) (4.2.6)\n",
            "Requirement already satisfied: pyngrok in /usr/local/lib/python3.6/dist-packages (5.0.1)\n",
            "Requirement already satisfied: PyYAML in /usr/local/lib/python3.6/dist-packages (from pyngrok) (3.13)\n"
          ],
          "name": "stdout"
        }
      ]
    },
    {
      "cell_type": "code",
      "metadata": {
        "id": "L1WFmy52LqFX"
      },
      "source": [
        "from SrdPy.LinksAndJoints import *\n",
        "from SrdPy.Handlers import *\n",
        "from SrdPy.InverseKinematics import *\n",
        "from SrdPy.SymbolicUtils import *\n",
        "from SrdPy.Loggers import *\n",
        "from SrdPy.DynamicSolvers import *\n",
        "from SrdPy.Controllers import *\n",
        "from SrdPy import SymbolicEngine\n",
        "from SrdPy.Visuals import Visualizer\n",
        "from casadi import *\n",
        "from copy import deepcopy\n",
        "from SrdPy import Chain\n",
        "import numpy as np\n",
        "import os\n",
        "import time"
      ],
      "execution_count": 1,
      "outputs": [
        {
          "output_type": "error",
          "ename": "ModuleNotFoundError",
          "evalue": "No module named 'SrdPy'",
          "traceback": [
            "\u001b[1;31m---------------------------------------------------------------------------\u001b[0m",
            "\u001b[1;31mModuleNotFoundError\u001b[0m                       Traceback (most recent call last)",
            "\u001b[1;32m<ipython-input-1-45c4863d5fed>\u001b[0m in \u001b[0;36m<module>\u001b[1;34m()\u001b[0m\n\u001b[1;32m----> 1\u001b[1;33m \u001b[1;32mfrom\u001b[0m \u001b[0mSrdPy\u001b[0m\u001b[1;33m.\u001b[0m\u001b[0mLinksAndJoints\u001b[0m \u001b[1;32mimport\u001b[0m \u001b[1;33m*\u001b[0m\u001b[1;33m\u001b[0m\u001b[0m\n\u001b[0m\u001b[0;32m      2\u001b[0m \u001b[1;32mfrom\u001b[0m \u001b[0mSrdPy\u001b[0m\u001b[1;33m.\u001b[0m\u001b[0mHandlers\u001b[0m \u001b[1;32mimport\u001b[0m \u001b[1;33m*\u001b[0m\u001b[1;33m\u001b[0m\u001b[0m\n\u001b[0;32m      3\u001b[0m \u001b[1;32mfrom\u001b[0m \u001b[0mSrdPy\u001b[0m\u001b[1;33m.\u001b[0m\u001b[0mInverseKinematics\u001b[0m \u001b[1;32mimport\u001b[0m \u001b[1;33m*\u001b[0m\u001b[1;33m\u001b[0m\u001b[0m\n\u001b[0;32m      4\u001b[0m \u001b[1;32mfrom\u001b[0m \u001b[0mSrdPy\u001b[0m\u001b[1;33m.\u001b[0m\u001b[0mSymbolicUtils\u001b[0m \u001b[1;32mimport\u001b[0m \u001b[1;33m*\u001b[0m\u001b[1;33m\u001b[0m\u001b[0m\n\u001b[0;32m      5\u001b[0m \u001b[1;32mfrom\u001b[0m \u001b[0mSrdPy\u001b[0m\u001b[1;33m.\u001b[0m\u001b[0mLoggers\u001b[0m \u001b[1;32mimport\u001b[0m \u001b[1;33m*\u001b[0m\u001b[1;33m\u001b[0m\u001b[0m\n",
            "\u001b[1;31mModuleNotFoundError\u001b[0m: No module named 'SrdPy'"
          ]
        }
      ]
    },
    {
      "cell_type": "markdown",
      "metadata": {
        "id": "W-S0Vb0ahIVJ"
      },
      "source": [
        "##Import a robot from URDF file"
      ]
    },
    {
      "cell_type": "code",
      "metadata": {
        "id": "Lx2MpcQT9_4D",
        "colab": {
          "base_uri": "https://localhost:8080/"
        },
        "outputId": "00db6733-886b-4744-dbfb-cea9273b376f"
      },
      "source": [
        "from SrdPy.URDFUtils import getLinkArrayFromURDF\r\n",
        "\r\n",
        "iiwaLinks = getLinkArrayFromURDF(\"./SrdPy/iiwa/iiwa14.urdf\",True)\r\n",
        "iiwaChain = Chain(iiwaLinks)\r\n",
        "iiwaChain.update(np.array([1]*7))\r\n",
        "vis = Visualizer()\r\n",
        "vis.show(iiwaChain,True)"
      ],
      "execution_count": null,
      "outputs": [
        {
          "output_type": "stream",
          "text": [
            "Unknown tag: material\n",
            "Unknown tag: self_collision_checking\n",
            "Unknown tag: material\n",
            "Unknown tag: material\n",
            "Unknown tag: material\n",
            "Unknown tag: material\n",
            "Unknown tag: material\n",
            "Unknown tag: material\n",
            "Unknown tag: material\n",
            "Unknown tag: hardwareInterface\n",
            "Unknown tag: hardwareInterface\n",
            "Unknown tag: hardwareInterface\n",
            "Unknown tag: hardwareInterface\n",
            "Unknown tag: hardwareInterface\n",
            "Unknown tag: hardwareInterface\n",
            "Unknown tag: hardwareInterface\n"
          ],
          "name": "stderr"
        },
        {
          "output_type": "stream",
          "text": [
            "You can open the visualizer by visiting the following URL:\n",
            "http://0327d338343f.ngrok.io/static/\n"
          ],
          "name": "stdout"
        }
      ]
    },
    {
      "cell_type": "markdown",
      "metadata": {
        "id": "-_pwnjtsMGYr"
      },
      "source": [
        "##Or define it yourself"
      ]
    },
    {
      "cell_type": "code",
      "metadata": {
        "id": "hRg26Prjb4ER"
      },
      "source": [
        "groundLink = GroundLink()\n",
        "\n",
        "link1 = Link(name=\"Link1\", order=1, inertia=np.diag([1/12*10*0.5, 1/12*10*0.5, 0.1*1/12*10*0.5]), mass=1,\n",
        "                relativeBase=[0, 0, 0], relativeFollower=[[0, 0, 0.5]], relativeCoM=[0, 0, 0.25])\n",
        "\n",
        "link2 = Link(name=\"Link2\", order=1, inertia=np.diag([1/12*10*0.5, 1/12*10*0.5, 0.1*1/12*10*0.5]), mass=1,\n",
        "                relativeBase=[0, 0, 0], relativeFollower=[[0, 0, 0.5]], relativeCoM=[0, 0, 0.25])\n",
        "\n",
        "link3 = Link(name=\"Link3\", order=1, inertia=np.diag([1/12*10*0.5, 1/12*10*0.5, 0.1*1/12*10*0.5]), mass=1,\n",
        "                relativeBase=[0, 0, 0], relativeFollower=[[0, 0, 0.5]], relativeCoM=[0, 0, 0.25])\n"
      ],
      "execution_count": null,
      "outputs": []
    },
    {
      "cell_type": "markdown",
      "metadata": {
        "id": "gcJUWb-tMJIp"
      },
      "source": [
        "##Define joints connecting the links"
      ]
    },
    {
      "cell_type": "code",
      "metadata": {
        "id": "Yo2Z62TDLouW"
      },
      "source": [
        "genCoordIndex = 0\n",
        "\n",
        "newCoordIndices = [0]\n",
        "jointGto1 = JointPivotX(name=\"GroundToFirst\", childLink=link1, parentLink=groundLink, parentFollowerNumber=0,\n",
        "                          usedGeneralizedCoordinates=newCoordIndices, usedControlInputs=newCoordIndices,\n",
        "                          defaultJointOrientation=np.eye(3))\n",
        "\n",
        "newCoordIndices = [1]\n",
        "joint1to2 = JointPivotX(name=\"1To2\", childLink=link2, parentLink=link1, parentFollowerNumber=0,\n",
        "                            usedGeneralizedCoordinates=newCoordIndices, usedControlInputs=newCoordIndices,\n",
        "                            defaultJointOrientation=np.eye(3))\n",
        "\n",
        "newCoordIndices = [2]\n",
        "joint2to3 = JointPivotX(name=\"2To3\", childLink=link3, parentLink=link2, parentFollowerNumber=0,\n",
        "                            usedGeneralizedCoordinates=newCoordIndices, usedControlInputs=newCoordIndices,\n",
        "                            defaultJointOrientation=np.eye(3))\n"
      ],
      "execution_count": null,
      "outputs": []
    },
    {
      "cell_type": "markdown",
      "metadata": {
        "id": "8opFqT61MNci"
      },
      "source": [
        "##Create a chain and update joint positions"
      ]
    },
    {
      "cell_type": "code",
      "metadata": {
        "id": "3mu5FzkGLnHr"
      },
      "source": [
        "initialPosition = np.array([np.pi/4, -2*np.pi/3, 1*np.pi/5])\n",
        "linkArray = [groundLink, link1, link2, link3]\n",
        "\n",
        "chain = Chain(linkArray)\n",
        "blank_chain = deepcopy(chain)\n",
        "blank_chain.update(initialPosition)"
      ],
      "execution_count": null,
      "outputs": []
    },
    {
      "cell_type": "markdown",
      "metadata": {
        "id": "r--DpO6MMTRk"
      },
      "source": [
        "##Display robot"
      ]
    },
    {
      "cell_type": "code",
      "metadata": {
        "id": "_nIirAt_P5RU",
        "colab": {
          "base_uri": "https://localhost:8080/"
        },
        "outputId": "17640813-b803-497a-f0bc-37e93544bb65"
      },
      "source": [
        "vis = Visualizer()\n",
        "vis.show(blank_chain)"
      ],
      "execution_count": null,
      "outputs": [
        {
          "output_type": "stream",
          "text": [
            "You can open the visualizer by visiting the following URL:\n",
            "http://17d3e5b6229a.ngrok.io/static/\n"
          ],
          "name": "stdout"
        }
      ]
    },
    {
      "cell_type": "markdown",
      "metadata": {
        "id": "nMAd6gr6hsve"
      },
      "source": [
        "##Define dynamics constraints"
      ]
    },
    {
      "cell_type": "code",
      "metadata": {
        "colab": {
          "base_uri": "https://localhost:8080/"
        },
        "id": "qH2MU5uyhrTR",
        "outputId": "b8b4df69-a6f6-4a95-8ebd-3579b9dd1cc9"
      },
      "source": [
        "engine = SymbolicEngine(chain.linkArray)\n",
        "deriveJacobiansForlinkArray(engine)\n",
        "H = deriveJSIM(engine)\n",
        "\n",
        "iN, dH = deriveGeneralizedInertialForces_dH(engine,H)\n",
        "g = deriveGeneralizedGravitationalForces(engine)\n",
        "d = deriveGeneralizedDissipativeForcesUniform(engine, 1)\n",
        "\n",
        "#NaiveControlMap\n",
        "T = deriveControlMap(engine)\n",
        "\n",
        "description_gen_coord_model = generateDynamicsGeneralizedCoordinatesModel(engine,\n",
        "                                            H=H,\n",
        "                                            c=(iN+g+d),\n",
        "                                            T=T,\n",
        "                                            functionName_H=\"g_dynamics_H\",\n",
        "                                            functionName_c=\"g_dynamics_c\",\n",
        "                                            functionName_T=\"g_dynamics_T\",\n",
        "                                            casadi_cCodeFilename=\"g_dynamics_generalized_coordinates\",\n",
        "                                            path=\"./Dynamics\")\n",
        "\n",
        "handlerGeneralizedCoordinatesModel = GeneralizedCoordinatesModelHandler(description_gen_coord_model)\n",
        "\n",
        "\n",
        "description_linearization = generateDynamicsLinearization(engine,\n",
        "                                            H=H,\n",
        "                                            c=(iN + g + d),\n",
        "                                            T=T,\n",
        "                                            functionName_A=\"g_linearization_A\",\n",
        "                                            functionName_B=\"g_linearization_B\",\n",
        "                                            functionName_c=\"g_linearization_c\",\n",
        "                                            casadi_cCodeFilename=\"g_dynamics_linearization\",\n",
        "                                            path=\"./Linearization\")\n",
        "handlerLinearizedModel = LinearizedModelHandler(description_linearization)\n",
        "\n",
        "constraint = engine.linkArray[3].absoluteFollower[0][2]\n",
        "\n",
        "description_constraints = generateSecondDerivativeJacobians(engine,\n",
        "                                                            task=constraint,\n",
        "                                                            functionName_Task=\"g_Constraint\",\n",
        "                                                            functionName_TaskJacobian=\"g_Constraint_Jacobian\",\n",
        "                                                            functionName_TaskJacobianDerivative=\"g_Constraint_Jacobian_derivative\",\n",
        "                                                            casadi_cCodeFilename=\"g_Constraints\",\n",
        "                                                            path=\"./Constraints\")\n",
        "handlerConstraints = ConstraintsModelHandler(description_constraints,engine.dof)\n",
        "\n",
        "\n",
        "task = vertcat(vertcat(engine.q[0], engine.q[1]), constraint)\n",
        "\n",
        "description_IK = generateSecondDerivativeJacobians(engine,\n",
        "                                                            task=task,\n",
        "                                                            functionName_Task=\"g_InverseKinematics_Task\",\n",
        "                                                            functionName_TaskJacobian=\"g_InverseKinematics_TaskJacobian\",\n",
        "                                                            functionName_TaskJacobianDerivative=\"g_InverseKinematics_TaskJacobian_derivative\",\n",
        "                                                            casadi_cCodeFilename=\"g_InverseKinematics\",\n",
        "                                                            path=\"./InverseKinematics\")\n"
      ],
      "execution_count": null,
      "outputs": [
        {
          "output_type": "stream",
          "text": [
            "(3, 1)\n",
            "Starting writing function for the g_dynamics_H\n",
            "Starting writing function for the g_dynamics_c\n",
            "Starting writing function for the g_dynamics_T\n",
            "Running gcc -fPIC -shared g_dynamics_generalized_coordinates.c -o g_dynamics_generalized_coordinates.so\n",
            "Generated C code!\n",
            "Starting writing function for the g_linearization_A\n",
            "Starting writing function for the g_linearization_B\n",
            "Starting writing function for the g_linearization_c\n",
            "Running gcc -fPIC -shared g_dynamics_linearization.c -o g_dynamics_linearization.so\n",
            "Generated C code!\n",
            "Starting writing function for the g_Constraint\n",
            "Starting writing function for the g_Constraint task jacobian\n",
            "Starting writing function for the derivative of g_Constraint\n",
            "Running gcc -fPIC -shared g_Constraints.c -o g_Constraints.so\n",
            "Generated C code!\n",
            "Starting writing function for the g_InverseKinematics_Task\n",
            "Starting writing function for the g_InverseKinematics_Task task jacobian\n",
            "Starting writing function for the derivative of g_InverseKinematics_Task\n",
            "Running gcc -fPIC -shared g_InverseKinematics.c -o g_InverseKinematics.so\n",
            "Generated C code!\n"
          ],
          "name": "stdout"
        }
      ]
    },
    {
      "cell_type": "markdown",
      "metadata": {
        "id": "4KcYIWFMiDWu"
      },
      "source": [
        "##IK task design"
      ]
    },
    {
      "cell_type": "code",
      "metadata": {
        "colab": {
          "base_uri": "https://localhost:8080/"
        },
        "id": "S5iLj8ceiHdl",
        "outputId": "cb7db482-f319-432b-9645-c21285452b5f"
      },
      "source": [
        "ikModelHandler = IKModelHandler(description_IK, engine.dof, task.shape[0])\n",
        "IC_task = ikModelHandler.getTask(initialPosition)\n",
        "\n",
        "zeroOrderDerivativeNodes = [[IC_task[0], IC_task[0] - 0.15],\n",
        "                            [IC_task[1], IC_task[1] + 0.15 ],\n",
        "                            [IC_task[2], IC_task[2]]]\n",
        "\n",
        "firstOrderDerivativeNodes = [[0, 0],\n",
        "                                [0, 0],\n",
        "                                [0, 0]]\n",
        "\n",
        "secondOrderDerivativeNodes = [[0, 0],\n",
        "                                [0, 0],\n",
        "                                [0, 0]]\n",
        "\n",
        "timeOfOneStage = 2\n",
        "timeEnd = (len(zeroOrderDerivativeNodes[1]) - 1) * timeOfOneStage + 1\n",
        "nodeTimes = np.arange(start=0, stop=timeEnd, step=timeOfOneStage)\n",
        "\n",
        "handlerIK_taskSplines = IKtaskSplinesHandler(nodeTimes,\n",
        "                                                zeroOrderDerivativeNodes, firstOrderDerivativeNodes,\n",
        "                                                secondOrderDerivativeNodes)\n",
        "\n",
        "timeTable = np.arange(handlerIK_taskSplines.timeStart, handlerIK_taskSplines.timeExpiration + 0.01, 0.01)\n",
        "IKTable = generateIKTable(ikModelHandler, handlerIK_taskSplines, initialPosition, timeTable)\n",
        "\n",
        "plotIKTable(ikModelHandler, timeTable, IKTable)\n",
        "\n",
        "ikSolutionHandler = IKSolutionHandler(ikModelHandler, handlerIK_taskSplines, timeTable, IKTable, \"linear\")"
      ],
      "execution_count": null,
      "outputs": [
        {
          "output_type": "stream",
          "text": [
            "Calculating  0.0%\n",
            "Calculating  0.0%\n",
            "Calculating  1.0%\n",
            "Calculating  2.0%\n",
            "Calculating  3.0%\n",
            "Calculating  4.0%\n",
            "Calculating  5.0%\n",
            "Calculating  6.0%\n",
            "Calculating  7.0%\n",
            "Calculating  8.0%\n",
            "Calculating  9.0%\n",
            "Calculating  10.0%\n",
            "Calculating  11.0%\n",
            "Calculating  12.0%\n",
            "Calculating  13.0%\n",
            "Calculating  14.0%\n",
            "Calculating  15.0%\n",
            "Calculating  16.0%\n",
            "Calculating  17.0%\n",
            "Calculating  18.0%\n",
            "Calculating  19.0%\n",
            "Calculating  20.0%\n",
            "Calculating  21.0%\n",
            "Calculating  22.0%\n",
            "Calculating  23.0%\n",
            "Calculating  24.0%\n",
            "Calculating  25.0%\n",
            "Calculating  26.0%\n",
            "Calculating  27.0%\n",
            "Calculating  28.0%\n",
            "Calculating  29.0%\n",
            "Calculating  30.0%\n",
            "Calculating  31.0%\n",
            "Calculating  32.0%\n",
            "Calculating  33.0%\n",
            "Calculating  34.0%\n",
            "Calculating  35.0%\n",
            "Calculating  36.0%\n",
            "Calculating  37.0%\n",
            "Calculating  38.0%\n",
            "Calculating  39.0%\n",
            "Calculating  40.0%\n",
            "Calculating  41.0%\n",
            "Calculating  42.0%\n",
            "Calculating  43.0%\n",
            "Calculating  44.0%\n",
            "Calculating  45.0%\n",
            "Calculating  46.0%\n",
            "Calculating  47.0%\n",
            "Calculating  48.0%\n",
            "Calculating  49.0%\n",
            "Calculating  50.0%\n",
            "Calculating  51.0%\n",
            "Calculating  52.0%\n",
            "Calculating  53.0%\n",
            "Calculating  54.0%\n",
            "Calculating  55.0%\n",
            "Calculating  56.0%\n",
            "Calculating  57.0%\n",
            "Calculating  58.0%\n",
            "Calculating  59.0%\n",
            "Calculating  60.0%\n",
            "Calculating  61.0%\n",
            "Calculating  62.0%\n",
            "Calculating  63.0%\n",
            "Calculating  64.0%\n",
            "Calculating  65.0%\n",
            "Calculating  66.0%\n",
            "Calculating  67.0%\n",
            "Calculating  68.0%\n",
            "Calculating  69.0%\n",
            "Calculating  70.0%\n",
            "Calculating  71.0%\n",
            "Calculating  72.0%\n",
            "Calculating  73.0%\n",
            "Calculating  74.0%\n",
            "Calculating  75.0%\n",
            "Calculating  76.0%\n",
            "Calculating  77.0%\n",
            "Calculating  78.0%\n",
            "Calculating  79.0%\n",
            "Calculating  80.0%\n",
            "Calculating  81.0%\n",
            "Calculating  82.0%\n",
            "Calculating  83.0%\n",
            "Calculating  84.0%\n",
            "Calculating  85.0%\n",
            "Calculating  86.0%\n",
            "Calculating  87.0%\n",
            "Calculating  88.0%\n",
            "Calculating  89.0%\n",
            "Calculating  90.0%\n",
            "Calculating  91.0%\n",
            "Calculating  92.0%\n",
            "Calculating  93.0%\n",
            "Calculating  94.0%\n",
            "Calculating  95.0%\n",
            "Calculating  96.0%\n",
            "Calculating  97.0%\n",
            "Calculating  98.0%\n",
            "Calculating  99.0%\n"
          ],
          "name": "stdout"
        }
      ]
    },
    {
      "cell_type": "code",
      "metadata": {
        "id": "RgoIDAfBogtX",
        "colab": {
          "base_uri": "https://localhost:8080/",
          "height": 597
        },
        "outputId": "7ca5fc14-7993-4d6b-98f5-095db5849cc4"
      },
      "source": [
        "plotIKTable(ikModelHandler, timeTable, IKTable)"
      ],
      "execution_count": null,
      "outputs": [
        {
          "output_type": "display_data",
          "data": {
            "image/png": "[encoded data removed]",
            "text/plain": [
              "<Figure size 432x288 with 1 Axes>"
            ]
          },
          "metadata": {
            "tags": [],
            "needs_background": "light"
          }
        },
        {
          "output_type": "display_data",
          "data": {
            "image/png": "[encoded data removed]",
            "text/plain": [
              "<Figure size 432x288 with 2 Axes>"
            ]
          },
          "metadata": {
            "tags": [],
            "needs_background": "light"
          }
        }
      ]
    },
    {
      "cell_type": "markdown",
      "metadata": {
        "id": "PzWoXRG4iRz9"
      },
      "source": [
        "##Simulation"
      ]
    },
    {
      "cell_type": "code",
      "metadata": {
        "id": "VDxMKk9jiRSf",
        "colab": {
          "base_uri": "https://localhost:8080/"
        },
        "outputId": "c747241d-dbf9-4610-b2df-b79206f80a64"
      },
      "source": [
        "stateHandler = StateHandler(initialPosition, np.zeros(len(initialPosition)))\n",
        "gcModelEvaluator = GCModelEvaluatorHandler(handlerGeneralizedCoordinatesModel, stateHandler)\n",
        "linearModelEvaluator = LinearModelEvaluatorHandler(handlerGeneralizedCoordinatesModel, handlerLinearizedModel,\n",
        "                                                        stateHandler, [], False)\n",
        "\n",
        "dt = 0.001\n",
        "tf = ikSolutionHandler.timeExpiration\n",
        "\n",
        "simulationHandler = SimulationHandler(np.arange(0, tf, dt))\n",
        "\n",
        "desiredStateHandler = DesiredStateHandler(ikSolutionHandler, simulationHandler)\n",
        "\n",
        "stateSpaceHandler = StateConverterGenCoord2StateSpaceHandler(stateHandler)\n",
        "\n",
        "desiredStateSpaceHandler = StateConverterGenCoord2StateSpaceHandler(desiredStateHandler)\n",
        "\n",
        "#    inverseDynamicsHandler = getIDVanillaDesiredTrajectoryHandler(desiredStateHandler, gcModelEvaluator,\n",
        "#                                                                  simulationHandler)\n",
        "inverseDynamicsHandler = InverseDynamicsConstrained_QR(\n",
        "                        desiredStateHandler,\n",
        "                        handlerConstraints,\n",
        "                        gcModelEvaluator,\n",
        "                        simulationHandler)\n",
        "\n",
        "computedTorqueController = ComputedTorqueController(stateHandler, desiredStateHandler,\n",
        "                                                        gcModelEvaluator, simulationHandler, inverseDynamicsHandler,\n",
        "                                                        500 * np.eye(desiredStateHandler.dofRobot),\n",
        "                                                        100 * np.eye(desiredStateHandler.dofRobot))\n",
        "\n",
        "\n",
        "                        \n",
        "#    LQRHandler = getLQRControllerHandler(stateSpaceHandler, desiredStateSpaceHandler, linearModelEvaluator,\n",
        "#                                         simulationHandler,\n",
        "#                                         inverseDynamicsHandler, 10 * np.eye(linearModelEvaluator.dofRobotStateSpace),\n",
        "#                                         np.eye(linearModelEvaluator.dofControl))\n",
        "LQRHandler = ConstrainedLQRController(stateHandler,stateSpaceHandler, desiredStateSpaceHandler, linearModelEvaluator,handlerConstraints,\n",
        "                                        simulationHandler,\n",
        "                                        inverseDynamicsHandler, 10 * np.eye(linearModelEvaluator.dofRobotStateSpace),\n",
        "                                        np.eye(linearModelEvaluator.dofControl))\n",
        "\n",
        "mainController = LQRHandler\n",
        "\n",
        "linearModelEvaluator.controllerHandler = inverseDynamicsHandler\n",
        "\n",
        "taylorSolverHandler = ConstrainedTaylorSolverHandler(stateHandler, mainController, gcModelEvaluator, simulationHandler,handlerConstraints)\n",
        "\n",
        "stateHandlerLogger = StateLoggerHandler(stateHandler, simulationHandler)\n",
        "\n",
        "tickLogger = ProgressDisplayHandler(simulationHandler)\n",
        "\n",
        "preprocessingHandlers = [desiredStateHandler, stateSpaceHandler, desiredStateSpaceHandler, gcModelEvaluator]\n",
        "controllerHandlers = [inverseDynamicsHandler, linearModelEvaluator, LQRHandler]\n",
        "solverHandlers = [taylorSolverHandler]\n",
        "loggerHandlers = [stateHandlerLogger, tickLogger]\n",
        "\n",
        "simulationHandler.preprocessingHandlersArray = preprocessingHandlers\n",
        "simulationHandler.controllerArray = controllerHandlers\n",
        "simulationHandler.solverArray = solverHandlers\n",
        "simulationHandler.loggerArray = loggerHandlers\n",
        "\n",
        "simulationHandler.simulate()"
      ],
      "execution_count": 1,
      "outputs": [
        {
          "output_type": "error",
          "ename": "NameError",
          "evalue": "name 'getStateHandler' is not defined",
          "traceback": [
            "\u001b[1;31m---------------------------------------------------------------------------\u001b[0m",
            "\u001b[1;31mNameError\u001b[0m                                 Traceback (most recent call last)",
            "\u001b[1;32m<ipython-input-1-f4a0fa3b9775>\u001b[0m in \u001b[0;36m<module>\u001b[1;34m()\u001b[0m\n\u001b[1;32m----> 1\u001b[1;33m \u001b[0mstateHandler\u001b[0m \u001b[1;33m=\u001b[0m \u001b[0mgetStateHandler\u001b[0m\u001b[1;33m(\u001b[0m\u001b[0minitialPosition\u001b[0m\u001b[1;33m,\u001b[0m\u001b[0mnp\u001b[0m\u001b[1;33m.\u001b[0m\u001b[0mzeros\u001b[0m\u001b[1;33m(\u001b[0m\u001b[0mlen\u001b[0m\u001b[1;33m(\u001b[0m\u001b[0minitialPosition\u001b[0m\u001b[1;33m)\u001b[0m\u001b[1;33m)\u001b[0m\u001b[1;33m)\u001b[0m\u001b[1;33m\u001b[0m\u001b[0m\n\u001b[0m\u001b[0;32m      2\u001b[0m \u001b[0mgcModelEvaluator\u001b[0m \u001b[1;33m=\u001b[0m \u001b[0mgetGCModelEvaluatorHandler\u001b[0m\u001b[1;33m(\u001b[0m\u001b[0mhandlerGeneralizedCoordinatesModel\u001b[0m\u001b[1;33m,\u001b[0m\u001b[0mstateHandler\u001b[0m\u001b[1;33m)\u001b[0m\u001b[1;33m\u001b[0m\u001b[0m\n\u001b[0;32m      3\u001b[0m \u001b[0mlinearModelEvaluator\u001b[0m \u001b[1;33m=\u001b[0m \u001b[0mgetLinearModelEvaluatorHandler\u001b[0m\u001b[1;33m(\u001b[0m\u001b[0mhandlerGeneralizedCoordinatesModel\u001b[0m\u001b[1;33m,\u001b[0m\u001b[0mhandlerLinearizedModel\u001b[0m\u001b[1;33m,\u001b[0m\u001b[0mstateHandler\u001b[0m\u001b[1;33m,\u001b[0m\u001b[1;33m[\u001b[0m\u001b[1;33m]\u001b[0m\u001b[1;33m,\u001b[0m\u001b[1;32mFalse\u001b[0m\u001b[1;33m)\u001b[0m\u001b[1;33m\u001b[0m\u001b[0m\n\u001b[0;32m      4\u001b[0m \u001b[1;33m\u001b[0m\u001b[0m\n\u001b[0;32m      5\u001b[0m \u001b[0mdt\u001b[0m \u001b[1;33m=\u001b[0m \u001b[1;36m0.001\u001b[0m\u001b[1;33m\u001b[0m\u001b[0m\n",
            "\u001b[1;31mNameError\u001b[0m: name 'getStateHandler' is not defined"
          ]
        }
      ]
    },
    {
      "cell_type": "code",
      "metadata": {
        "id": "hINZIbMaMocf",
        "colab": {
          "base_uri": "https://localhost:8080/"
        },
        "outputId": "41784a1a-332e-4093-ed19-f8720d72894e"
      },
      "source": [
        "vis = Visualizer()\r\n",
        "vis.animate(blank_chain,stateHandlerLogger.q,framerate=0.1)"
      ],
      "execution_count": null,
      "outputs": [
        {
          "output_type": "stream",
          "text": [
            "You can open the visualizer by visiting the following URL:\n",
            "http://a477543a7d89.ngrok.io/static/\n"
          ],
          "name": "stdout"
        }
      ]
    },
    {
      "cell_type": "markdown",
      "metadata": {
        "id": "HMhkZYiFhyVA"
      },
      "source": [
        "##Plot optimized variables"
      ]
    },
    {
      "cell_type": "code",
      "metadata": {
        "id": "x26lj21QhtGx",
        "colab": {
          "base_uri": "https://localhost:8080/",
          "height": 307
        },
        "outputId": "cdfb76ab-d750-4b8b-ff0c-d5eec7ad5aed"
      },
      "source": [
        "from SrdPy import plotGeneric\r\n",
        "plotGeneric(simulationHandler.timeLog[:-1],stateHandlerLogger.q,figureTitle=\"Q\",ylabel=\"q\")"
      ],
      "execution_count": null,
      "outputs": [
        {
          "output_type": "display_data",
          "data": {
            "image/png": "[encoded data removed]",
            "text/plain": [
              "<Figure size 432x288 with 1 Axes>"
            ]
          },
          "metadata": {
            "tags": [],
            "needs_background": "light"
          }
        }
      ]
    },
    {
      "cell_type": "code",
      "metadata": {
        "id": "TeyhUMdVhxRM"
      },
      "source": [
        "plotGeneric(simulationHandler.timeLog[:-1], stateHandlerLogger.v, figureTitle=\"V\", ylabel=\"v\")"
      ],
      "execution_count": null,
      "outputs": []
    }
  ]
}